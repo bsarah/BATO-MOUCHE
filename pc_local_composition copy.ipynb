{
 "cells": [
  {
   "attachments": {},
   "cell_type": "markdown",
   "id": "d5c2f775-80b8-4fc1-a9fd-1678f051f532",
   "metadata": {},
   "source": [
    "# Same analysis as before but for a bigger geographical place : the *Petite Couronne*"
   ]
  },
  {
   "cell_type": "code",
   "execution_count": null,
   "id": "282caa4a-c8cf-4849-817b-7d1e2832ea76",
   "metadata": {
    "tags": []
   },
   "outputs": [],
   "source": [
    "%%capture\n",
    "#!pip install palettable\n",
    "#!pip install contextily\n",
    "#!pip install osmnx\n",
    "#!pip install pysal\n",
    "#!pip install statannot"
   ]
  },
  {
   "cell_type": "code",
   "execution_count": null,
   "id": "502ee1e4-d265-4d1e-a816-d09f6825771d",
   "metadata": {
    "tags": []
   },
   "outputs": [],
   "source": [
    "import os\n",
    "os.environ['USE_PYGEOS'] = '0'\n",
    "import helpers as hs\n",
    "from importlib import reload\n",
    "import folium"
   ]
  },
  {
   "attachments": {},
   "cell_type": "markdown",
   "id": "d32e5777-9a16-4fda-8b97-81d547621e02",
   "metadata": {},
   "source": [
    "# Creation of the database for the *Petite Couronne*"
   ]
  },
  {
   "attachments": {},
   "cell_type": "markdown",
   "id": "34fd4b07-09de-498c-a1e8-7623fd5b13f4",
   "metadata": {},
   "source": [
    "## Creation of aggregated data on the INSPIRE 200X200m grid\n",
    "We start from the OSM data with a list of points with coordinates and information and we want to obtain a list of INSPIRE squares with the total of categories per square (this has been done in the file extract_data.ipynb)"
   ]
  },
  {
   "cell_type": "code",
   "execution_count": null,
   "id": "a62c4217-16c1-4d5b-acc8-8fa3969f9e23",
   "metadata": {
    "tags": []
   },
   "outputs": [],
   "source": [
    "import pandas as pd\n",
    "from shapely import wkt\n",
    "import geopandas as gpd\n",
    "\n",
    "pc_gdf = pd.read_csv('https://minio.lab.sspcloud.fr/mthaury/public/pc_gdf.csv')\n",
    "pc_gdf['geometry'] = pc_gdf['geometry'].apply(wkt.loads)\n",
    "pc_gdf = gpd.GeoDataFrame(pc_gdf, geometry='geometry')\n",
    "pc_gdf.set_index('IdINSPIRE', inplace=True)\n",
    "pc_gdf.sample(5)"
   ]
  },
  {
   "cell_type": "code",
   "execution_count": null,
   "id": "3a9aed8d-2ad0-4dc5-ad6a-59edff43a08f",
   "metadata": {},
   "outputs": [],
   "source": [
    "#hs.folium_grid_cat_plot(pc_gdf,\"restaurant\")"
   ]
  },
  {
   "attachments": {},
   "cell_type": "markdown",
   "id": "94328c16-4275-4ffc-9a1d-40194d26e0da",
   "metadata": {},
   "source": [
    "### Adding a variable for the housing"
   ]
  },
  {
   "cell_type": "code",
   "execution_count": null,
   "id": "2a863c76-23e9-409b-b61b-1a2697d40b65",
   "metadata": {
    "tags": []
   },
   "outputs": [],
   "source": [
    "pc_gdf['Log'] = pc_gdf['Log_inc'] + pc_gdf['Log_av45'] + pc_gdf['Log_45_70'] + pc_gdf['Log_70_90'] + pc_gdf['Log_ap90'] # nombre total de logement"
   ]
  },
  {
   "attachments": {},
   "cell_type": "markdown",
   "id": "d4399b81-218e-4cd4-95e1-ed6f600abb1c",
   "metadata": {},
   "source": [
    "## Computation of accessibility indexes"
   ]
  },
  {
   "attachments": {},
   "cell_type": "markdown",
   "id": "9bf17e35-4e04-498e-8503-74c786125bc1",
   "metadata": {},
   "source": [
    "### Two-step floating catchment area method (2SFCA)"
   ]
  },
  {
   "attachments": {},
   "cell_type": "markdown",
   "id": "77e19b22-4698-4589-89ed-34294343cf7a",
   "metadata": {},
   "source": [
    "#### Weight calcul"
   ]
  },
  {
   "cell_type": "code",
   "execution_count": null,
   "id": "e1672405-1f30-4a01-a94c-ac816cabddfb",
   "metadata": {
    "tags": []
   },
   "outputs": [],
   "source": [
    "# very long (1h30)\n",
    "\n",
    "#idCol = \"IdINSPIRE\"\n",
    "#weights_by_id_pc = hs.calculate_distanceband_weights(pc_gdf,idCol=idCol) \n",
    "\n",
    "# note it sets the idCol as index for the rest of the program to work weights_by_id and gdf needs to have the same index"
   ]
  },
  {
   "attachments": {},
   "cell_type": "markdown",
   "id": "b4419dbb-22c6-47bd-855d-44d638323cd0",
   "metadata": {},
   "source": [
    "File saving (around 15 min)"
   ]
  },
  {
   "cell_type": "code",
   "execution_count": null,
   "id": "c16bb4d2-31e1-47b8-b353-8956cb94bdf8",
   "metadata": {
    "tags": []
   },
   "outputs": [],
   "source": [
    "#compression_opts = dict(method='zip', archive_name='out.csv')  \n",
    "#weights_by_id_pc.to_csv('weights_by_id_pc.zip', index=True,compression=compression_opts) "
   ]
  },
  {
   "attachments": {},
   "cell_type": "markdown",
   "id": "9b4e27e8-5cb0-4de9-b95a-561c173a7d53",
   "metadata": {},
   "source": [
    "Here are the data : "
   ]
  },
  {
   "cell_type": "code",
   "execution_count": null,
   "id": "bdfabde8-16d4-4085-8fc2-271f910f24f3",
   "metadata": {
    "tags": []
   },
   "outputs": [],
   "source": [
    "weights_by_id_pc = pd.read_csv('https://minio.lab.sspcloud.fr/mthaury/public/weights_by_id_pc.zip')\n",
    "weights_by_id_pc = weights_by_id_pc.set_index(pd.Index(weights_by_id_pc.columns.tolist()))\n",
    "weights_by_id_pc.sample(5)"
   ]
  },
  {
   "attachments": {},
   "cell_type": "markdown",
   "id": "eba4d6a5-988f-48df-bee7-d63fc2f915a6",
   "metadata": {},
   "source": [
    "##### Let's check the consistency"
   ]
  },
  {
   "cell_type": "code",
   "execution_count": null,
   "id": "39fbce72-a56e-4c6d-9f1e-4b6a00ae3f7d",
   "metadata": {
    "tags": []
   },
   "outputs": [],
   "source": [
    "m=folium.Map((48.8634100,2.3588000), zoom_start=13.5)\n",
    "m = pc_gdf[[\"geometry\"]].assign(weight_0 = weights_by_id_pc[pc_gdf.index[1]].values).explore(\n",
    "    m = m,\n",
    "    column = 'weight_0',\n",
    "    tooltip = 'weight_0',\n",
    "    tiles= \"OpenStreetMap\",\n",
    "    popup = True,\n",
    "    cmap = 'Set1',\n",
    "    #categorical= True,\n",
    "    style_kwds = dict(color = \"black\",fillOpacity=0.4),\n",
    ")\n",
    "m"
   ]
  },
  {
   "attachments": {},
   "cell_type": "markdown",
   "id": "5c6a495a-bfb1-4898-9881-c44014033281",
   "metadata": {},
   "source": [
    "#### Calculate accessibility"
   ]
  },
  {
   "cell_type": "code",
   "execution_count": null,
   "id": "3ab14cd6-c819-4779-9e91-10c15dac5427",
   "metadata": {
    "tags": []
   },
   "outputs": [],
   "source": [
    "interestVar = ['Log','Log_soc','restaurant',\n",
    "       'culture and art', 'education', 'food_shops', 'fashion_beauty',\n",
    "       'supply_shops']\n",
    "accessibility_measures = hs.calculate_2SFCA_accessibility(pc_gdf,interestVar,weights_by_id_pc)"
   ]
  },
  {
   "cell_type": "code",
   "execution_count": null,
   "id": "d501dbfa-0f7c-4b13-b383-a8a57cf0c17b",
   "metadata": {
    "tags": []
   },
   "outputs": [],
   "source": [
    "for var in interestVar:\n",
    "    pc_gdf[var+\"_access\"] = accessibility_measures[var]"
   ]
  },
  {
   "cell_type": "code",
   "execution_count": null,
   "id": "72314159-2e41-49f4-a447-0b75cb8169d8",
   "metadata": {
    "tags": []
   },
   "outputs": [],
   "source": [
    "#hs.folium_grid_cat_plot(pc_gdf,\"restaurant_access\")"
   ]
  },
  {
   "attachments": {},
   "cell_type": "markdown",
   "id": "13aedf49-dd87-43b2-a4a9-bb90e69e2a13",
   "metadata": {},
   "source": [
    "### Aggregated accesibility (calcul grossier): \n",
    "\n",
    "On somme tout les calculs d'accessibilité mais le problème est que nous ne disposons pas de poids pour chaque aménité qui est calculé par la fréquence des personnes allant dans chaque lieu. Une idée simple serait de faire le rapport pour chaque aménité entre le nombre d'aménités p sur le nombre total d'aménités et donner un poids opposé à sa fréquence dans le calcul final : \n",
    " $$ w_{p} = \\frac{N_{p}}{N} $$\n",
    " \n",
    " L'idée est que moins il y a d'aménités, plus l'aménité en question est importante : il y a qu'une école alors qu'il y a 20 restaurants. Mais cela laisse de nombreux biais en surfavorisant les lieux de culture et les lieux d'éducation. \n",
    " \n",
    " On obtiendrait ainsi pour la cellule i, le 2SFCA aggrégé : \n",
    " $ CS_{i} = \\sum_{p=1}^{P} (1 -w_{p}) \\times X_{i,p} $ avec $ X_{i,p} = \\frac{A_{i,p} - \\min {A_{i,p}}}{\\max{A_{p}} - \\min{A_{p}}} $, la normalisation min-max de l'accessibilité de la cellule i à l'aménité p $A_{i,p}$. \n",
    " \n",
    " On présentera ici un estimateur sans les poids et un autre avec. \n",
    "\n",
    "\n",
    " \n",
    " "
   ]
  },
  {
   "cell_type": "code",
   "execution_count": null,
   "id": "5a8caee3-a5a5-404d-9f87-fb6ac385981c",
   "metadata": {
    "tags": []
   },
   "outputs": [],
   "source": [
    "pc_gdf = hs.aggregate_2SFCA(pc_gdf)"
   ]
  },
  {
   "attachments": {},
   "cell_type": "markdown",
   "id": "2d3be45c-61cd-4ea1-9b40-2fe428051fbb",
   "metadata": {
    "tags": []
   },
   "source": [
    "**With weights**"
   ]
  },
  {
   "cell_type": "code",
   "execution_count": null,
   "id": "b9f3b926-6fe9-46d8-93c0-2f36df6331e2",
   "metadata": {
    "tags": []
   },
   "outputs": [],
   "source": [
    "hs.folium_grid_cat_plot(pc_gdf,\"CS_aggregated\", op = 0.1)"
   ]
  },
  {
   "attachments": {},
   "cell_type": "markdown",
   "id": "c85e0478-069a-4409-a09e-79c93ddd08b2",
   "metadata": {},
   "source": [
    "# Analyses"
   ]
  },
  {
   "attachments": {},
   "cell_type": "markdown",
   "id": "eddbbd44-cf2b-4bd8-b01f-5aa3a5e40f54",
   "metadata": {},
   "source": [
    "## Régression"
   ]
  },
  {
   "attachments": {},
   "cell_type": "markdown",
   "id": "43f6c5be-7d39-4543-b1be-0d0367cbe4ab",
   "metadata": {},
   "source": [
    "\"L’autocorrélation spatiale a deux sources principales :\n",
    "- elle peut provenir du fait que les données sont affectées par des processus qui relient des lieux différents et qui sont à l’origine d’une organisation spatiale particulière des activités. En effet, les processus d’interactions sont source d’autocorrélation spatiale lorsque les événements ou les circonstances en un lieu donné affectent les conditions en d’autres lieux si ces derniers interagissent d’une manière ou d’une autre, par des mouvements de biens, de personnes, de capitaux, des externalités spatiales ou toutes les formes de comportements où un acteur économique réagit aux actions d’autres acteurs. Par exemple, la diffusion d’un phénomène (comme la diffusion technologique) à partir d’un ou de plusieurs lieux d’origine implique que l’intensité de la mesure de ce phénomène dépend de la distance à l’origine. Aux localisations proches les unes des autres, donc à des distances comparables de l’origine, seront donc associées des intensités similaires pour le phénomène étudié ;\n",
    "- elle peut également provenir d’une mauvaise spécification du modèle, comme des variables omises spatialement autocorrélées, d’une forme fonctionnelle incorrecte ou d’erreurs de mesure (c’est en particulier le cas lorsque l’étendue spatiale du phénomène étudié ne coïncide pas avec les unités spatiales d’observation). Elle est alors considérée comme un outil de diagnostic et de détection d’une mauvaise spécification du modèle.\" \n",
    "\n",
    "(source : https://www.cairn.info/revue-economie-et-prevision-2002-4-page-139.htm)"
   ]
  },
  {
   "attachments": {},
   "cell_type": "markdown",
   "id": "fddea439-6467-4072-8a48-b760c87b179e",
   "metadata": {
    "tags": []
   },
   "source": [
    "### Spatial Weight \n",
    "Choix d'un poids continu au format Queen suivant l'indice de Moran (à vérifier). \n"
   ]
  },
  {
   "cell_type": "code",
   "execution_count": null,
   "id": "48fb3237-0eae-4888-873b-27f18c7411b1",
   "metadata": {
    "tags": []
   },
   "outputs": [],
   "source": [
    "from pysal.lib import weights\n",
    "w_queen = weights.contiguity.Queen.from_dataframe(pc_gdf) # adjacent in all directions, including diagonal.\n",
    "# Replace Queen by rook for only up/down/left/right adjancy\n",
    "w_queen.transform = 'r'"
   ]
  },
  {
   "cell_type": "code",
   "execution_count": null,
   "id": "abe03077-6f83-4ec4-8e91-431650e4353b",
   "metadata": {
    "tags": []
   },
   "outputs": [],
   "source": [
    "from pysal.explore import esda\n",
    "moran = esda.moran.Moran(pc_gdf[\"CS_aggregated\"], w_queen)\n",
    "print(\"Moran's I\", moran.I,\"Moran's simulated p-value\",moran.p_sim)\n",
    "\n",
    "#p-value smaller than 0.001 -> we cannot reject that it is randomly distributed, we must use the queen weigth "
   ]
  },
  {
   "attachments": {},
   "cell_type": "markdown",
   "id": "9fa3c912-b1c7-4716-83a1-cefb27026430",
   "metadata": {},
   "source": [
    "### Spatial Regression\n",
    "\n",
    "L'autocorrélation spatiale désigne le fait que les variables ne sont pas réparties de manières idd dans l'espace. Il existe trois modèles principaux.\n",
    "\n",
    "**Spatial error Model (SEM):** Ce modèle introduit un spatial lag dans le terme d'erreur. \n",
    "\n",
    "$$ Y_{i} = \\alpha +  X_{i}\\beta  + u_{i} $$\n",
    "$$ u_{i}= \\lambda u_{lag - i} + \\epsilon_{i}$$\n",
    "\n",
    "Avec $u_{lag - i} = \\sum_{j}w_{i,j}u_{j} $. Le paramètre $\\lambda$ représente l'intensité de l'interdépendance entre les termes d'erreurs $u$.\n",
    "\n",
    "**Spatial lag Model '(SAR):** Ce modèle introduit un spatial lag dans les variables dépendantes. \n",
    "\n",
    "$$ Y_{i} = \\alpha +  \\rho W Y_{lag - i}+ X\\beta  + \\epsilon_{i} $$\n",
    "\n",
    "Regarde l'interdépendance spatiale avec les autres variables. On calcule l'endegenous lag en faisant une régression TWO-SLS avec pour instrument de l'endegenous lag, le spatial lag de toutes les variables explicatives. \n",
    "\n",
    "**SARMA:** Ce modèle dit SARMA combine les deux précèdentes approches. \n",
    "\n",
    "$$ Y = X\\beta +  \\rho W Y + \\lambda u + \\epsilon $$\n"
   ]
  },
  {
   "attachments": {},
   "cell_type": "markdown",
   "id": "80ae3d7b-2cd5-4451-8731-de45b3213903",
   "metadata": {},
   "source": [
    "### Préparation des données \n",
    "\n",
    "L'idée est de recréer les mêmes variables que l'article d'Utretch dans la mesure du possible : \n",
    "- % de foyer vivant en dessous du seuil minimum social (%_soc.minimum)\n",
    "- % d'individus ayant plus de 65 ans (%_>_65)\n",
    "- % d'individus ayant moins de 17 ans (%_<_17)\n",
    "- % de logements construits avant 1945 (%_<_bat_45)\n",
    "- % de logements construits après 1990 (%_>_bat_90)\n",
    "- % de résidences collectives  (%_residences)\n",
    "- La moyenne du revenu annuel par personne (mean_income)\n",
    "- La densité par $km^2$ (density)\n",
    "\n",
    "Pour l'analyse de la composition de la petite couronne, on rajoute la variable in_Paris qui indique si l'unité géographique est dans Paris ou  non. \n",
    "\n",
    "Nous ne disposons pas du pourcentage de personnes recevant les indémnités chômages ou les allocations RSA, ni du pourcentage de migrants, ni de la distance au transport le plus proche pour le moment. "
   ]
  },
  {
   "cell_type": "code",
   "execution_count": null,
   "id": "d445837f-a644-44b7-8c64-4665991c40e7",
   "metadata": {
    "tags": []
   },
   "outputs": [],
   "source": [
    "pc_gdf[\"%_soc.minimum\"] = (pc_gdf[\"Men_pauv\"]/pc_gdf[\"Ind\"])*100\n",
    "pc_gdf[\"%_>_65\"] = ((pc_gdf[\"Ind_65_79\"] +pc_gdf[\"Ind_80p\"])/pc_gdf[\"Ind\"])*100\n",
    "pc_gdf[\"%_<_17\"] = ((pc_gdf[\"Ind_0_3\"] +pc_gdf[\"Ind_4_5\"] + pc_gdf[\"Ind_6_10\"] + pc_gdf[\"Ind_11_17\"])/pc_gdf[\"Ind\"])*100\n",
    "pc_gdf[\"%_<_bat_45\"] = (pc_gdf[\"Log_av45\"]/(pc_gdf[\"Log_av45\"] +pc_gdf[\"Log_45_70\"] + pc_gdf[\"Log_70_90\"] + pc_gdf[\"Log_ap90\"] + pc_gdf[\"Log_inc\"]))*100\n",
    "pc_gdf[\"%_>_bat_90\"] = (pc_gdf[\"Log_ap90\"]/(pc_gdf[\"Log_av45\"] +pc_gdf[\"Log_45_70\"] + pc_gdf[\"Log_70_90\"] + pc_gdf[\"Log_ap90\"] + pc_gdf[\"Log_inc\"]))*100\n",
    "pc_gdf[\"%_residences\"] = (pc_gdf[\"Men_coll\"]/(pc_gdf[\"Men_coll\"] +pc_gdf[\"Men_mais\"]))*100\n",
    "pc_gdf[\"mean_income\"] = pc_gdf[\"Ind_snv\"]/pc_gdf[\"Ind\"]\n",
    "pc_gdf[\"density\"] = pc_gdf[\"Ind\"]/(0.0002)\n",
    "pc_gdf['in_Paris'] = [float(pc_gdf['Depcom'][k]<90000) for k in range(len(pc_gdf))]"
   ]
  },
  {
   "cell_type": "code",
   "execution_count": null,
   "id": "d16c57f1-cc67-4b66-b855-63cab9de7694",
   "metadata": {
    "tags": []
   },
   "outputs": [],
   "source": [
    "from pysal.lib import weights\n",
    "from pysal.model import spreg\n",
    "from spreg import OLS"
   ]
  },
  {
   "attachments": {},
   "cell_type": "markdown",
   "id": "b6156017-cdf5-46b9-9b90-1bf30b3a8c97",
   "metadata": {
    "tags": []
   },
   "source": [
    "### Spatial regression \n",
    " \n",
    " Three models: \n",
    " \n",
    " Model A : \n",
    "- %_soc.minimum\n",
    "- %_>_65\n",
    "- %_<_17\n",
    "\n",
    "Model B : \n",
    "- %_soc.minimum\n",
    "- %_>_65\n",
    "- %_<_17\n",
    "- %_<_bat_45\n",
    "- %_>_bat_90\n",
    "- %_residences\n",
    "- mean_income\n",
    "- density\n",
    "\n",
    "Model C : \n",
    "- %_soc.minimum\n",
    "- %_>_65\n",
    "- %_<_17\n",
    "- %_<_bat_45\n",
    "- %_>_bat_90\n",
    "- %_residences\n",
    "- mean_income\n",
    "- density\n",
    "- in_Paris"
   ]
  },
  {
   "cell_type": "code",
   "execution_count": null,
   "id": "0313477f-5a8c-4fb0-8ee7-9aa75d1b4ead",
   "metadata": {
    "tags": []
   },
   "outputs": [],
   "source": [
    "independ_var_A = [\"%_soc.minimum\", \"%_>_65\", \"%_<_17\"]\n",
    "independ_var_B = [\"%_soc.minimum\", \"%_>_65\", \"%_<_17\", \"%_<_bat_45\", \"%_>_bat_90\", \"%_residences\", \"mean_income\",\"density\"]\n",
    "independ_var_C = [\"%_soc.minimum\", \"%_>_65\", \"%_<_17\", \"%_<_bat_45\", \"%_>_bat_90\", \"%_residences\", \"mean_income\",\"density\", 'in_Paris']"
   ]
  },
  {
   "attachments": {},
   "cell_type": "markdown",
   "id": "763f9c8b-f8e8-4c94-bfeb-e1a72d64a3c8",
   "metadata": {
    "jp-MarkdownHeadingCollapsed": true,
    "tags": []
   },
   "source": [
    "#### restaurant_access"
   ]
  },
  {
   "cell_type": "code",
   "execution_count": null,
   "id": "5c0795d3-5826-44d1-85db-e525bb79fa2c",
   "metadata": {
    "tags": []
   },
   "outputs": [],
   "source": [
    "dep_var = 'restaurant_access'"
   ]
  },
  {
   "attachments": {},
   "cell_type": "markdown",
   "id": "e354ab19-386d-4d2b-98db-5a6a0c6e07c6",
   "metadata": {},
   "source": [
    "Modèle A"
   ]
  },
  {
   "cell_type": "code",
   "execution_count": null,
   "id": "c892694c-3c41-4db0-932e-2fd3fcef5c26",
   "metadata": {
    "tags": []
   },
   "outputs": [],
   "source": [
    "hs.LM_test(pc_gdf, dep_var, independ_var_A, w_queen)\n",
    "print(hs.reg_spatial(pc_gdf,dep_var, independ_var_A, w_queen).summary)"
   ]
  },
  {
   "attachments": {},
   "cell_type": "markdown",
   "id": "dabdf68b-4c9c-4686-b0ff-521b965614f4",
   "metadata": {},
   "source": [
    "Modèle C"
   ]
  },
  {
   "cell_type": "code",
   "execution_count": null,
   "id": "e1e9eff8-cc0c-4bce-821a-1dbe774ca0a4",
   "metadata": {
    "tags": []
   },
   "outputs": [],
   "source": [
    "hs.LM_test(pc_gdf, dep_var, independ_var_C, w_queen)\n",
    "print(hs.reg_spatial(pc_gdf, dep_var, independ_var_C, w_queen).summary)"
   ]
  },
  {
   "attachments": {},
   "cell_type": "markdown",
   "id": "4a001017-2695-408f-a975-be71a7664763",
   "metadata": {
    "jp-MarkdownHeadingCollapsed": true,
    "tags": []
   },
   "source": [
    "#### culture and art_access"
   ]
  },
  {
   "cell_type": "code",
   "execution_count": null,
   "id": "72e74f70-2924-4f9a-8a17-0fc17367e76a",
   "metadata": {
    "tags": []
   },
   "outputs": [],
   "source": [
    "dep_var = 'culture and art_access'"
   ]
  },
  {
   "attachments": {},
   "cell_type": "markdown",
   "id": "7174ce79-11d5-4827-bdcf-a8348099d0bd",
   "metadata": {},
   "source": [
    "Modèle A"
   ]
  },
  {
   "cell_type": "code",
   "execution_count": null,
   "id": "acd76d55-b757-498f-a846-04cd388578c1",
   "metadata": {
    "tags": []
   },
   "outputs": [],
   "source": [
    "hs.LM_test(pc_gdf, dep_var, independ_var_A, w_queen)\n",
    "print(hs.reg_spatial(pc_gdf, dep_var, independ_var_A, w_queen).summary)"
   ]
  },
  {
   "attachments": {},
   "cell_type": "markdown",
   "id": "4c27c94b-9601-4dc7-89a2-3ea9771d2cea",
   "metadata": {},
   "source": [
    "Model C"
   ]
  },
  {
   "cell_type": "code",
   "execution_count": null,
   "id": "822680cc-e9e3-4787-9fbe-11f988f72274",
   "metadata": {
    "tags": []
   },
   "outputs": [],
   "source": [
    "hs.LM_test(pc_gdf, dep_var, independ_var_C, w = w_queen)\n",
    "print(hs.reg_spatial(pc_gdf, dep_var, independ_var_C, w_queen).summary)"
   ]
  },
  {
   "attachments": {},
   "cell_type": "markdown",
   "id": "dcc1e20d-147a-4401-aa18-33e44a1b70f1",
   "metadata": {
    "jp-MarkdownHeadingCollapsed": true,
    "tags": []
   },
   "source": [
    "#### education_access"
   ]
  },
  {
   "cell_type": "code",
   "execution_count": null,
   "id": "91862cd6-c33e-4bb3-84fb-08579829ea5f",
   "metadata": {
    "tags": []
   },
   "outputs": [],
   "source": [
    "dep_var = 'education_access'"
   ]
  },
  {
   "attachments": {},
   "cell_type": "markdown",
   "id": "790cb0a3-4e28-4a7c-afc7-7e6fbe7e6aeb",
   "metadata": {},
   "source": [
    "Modèle A"
   ]
  },
  {
   "cell_type": "code",
   "execution_count": null,
   "id": "a2904b93-b821-4f17-895c-1c82789e00e7",
   "metadata": {
    "tags": []
   },
   "outputs": [],
   "source": [
    "hs.LM_test(pc_gdf, dep_var, independ_var_A, w = w_queen)\n",
    "print(hs.reg_spatial(pc_gdf, dep_var, independ_var_A, w_queen).summary)"
   ]
  },
  {
   "attachments": {},
   "cell_type": "markdown",
   "id": "3667d5ff-362c-4ae9-9565-dcd6a5f56475",
   "metadata": {},
   "source": [
    "Modèle C"
   ]
  },
  {
   "cell_type": "code",
   "execution_count": null,
   "id": "65c1d902-048f-4c8c-8ab6-66d619f4f001",
   "metadata": {
    "tags": []
   },
   "outputs": [],
   "source": [
    "hs.LM_test(pc_gdf, dep_var, independ_var_C, w = w_queen)\n",
    "print(hs.reg_spatial(pc_gdf, dep_var, independ_var_C, w_queen).summary)"
   ]
  },
  {
   "attachments": {},
   "cell_type": "markdown",
   "id": "885abe93-e654-48fd-935d-926b9f40940e",
   "metadata": {
    "jp-MarkdownHeadingCollapsed": true,
    "tags": []
   },
   "source": [
    "#### food_shops_access"
   ]
  },
  {
   "cell_type": "code",
   "execution_count": null,
   "id": "0850efa8-da56-4cf2-9f94-c26615068e04",
   "metadata": {
    "tags": []
   },
   "outputs": [],
   "source": [
    "dep_var = 'food_shops_access'"
   ]
  },
  {
   "attachments": {},
   "cell_type": "markdown",
   "id": "efb87fb5-8dea-4982-8a32-cd02693c42c8",
   "metadata": {},
   "source": [
    "Modèle A"
   ]
  },
  {
   "cell_type": "code",
   "execution_count": null,
   "id": "6f9e927e-cf0e-447c-9699-3162e5e31dc0",
   "metadata": {
    "tags": []
   },
   "outputs": [],
   "source": [
    "hs.LM_test(pc_gdf, dep_var, independ_var_A, w = w_queen)\n",
    "print(hs.reg_spatial(pc_gdf, dep_var, independ_var_A, w_queen).summary)"
   ]
  },
  {
   "attachments": {},
   "cell_type": "markdown",
   "id": "caa18e1b-74ce-4881-aacf-34f67f6813e7",
   "metadata": {
    "tags": []
   },
   "source": [
    "Modèle C"
   ]
  },
  {
   "cell_type": "code",
   "execution_count": null,
   "id": "6838dab7-1284-45ce-93d0-11a3a2a98f41",
   "metadata": {
    "tags": []
   },
   "outputs": [],
   "source": [
    "hs.LM_test(pc_gdf, dep_var, independ_var_C, w = w_queen)\n",
    "print(hs.reg_spatial(pc_gdf, dep_var, independ_var_C, w_queen).summary)"
   ]
  },
  {
   "attachments": {},
   "cell_type": "markdown",
   "id": "98d271be-9f81-4a93-b333-392a2e67a74a",
   "metadata": {},
   "source": [
    "#### fashion_beauty_access"
   ]
  },
  {
   "cell_type": "code",
   "execution_count": null,
   "id": "b9dc28c7-9b9c-4013-bf22-17704e6d3f40",
   "metadata": {
    "tags": []
   },
   "outputs": [],
   "source": [
    "dep_var = 'fashion_beauty_access'"
   ]
  },
  {
   "attachments": {},
   "cell_type": "markdown",
   "id": "271f7b32-a5cb-43eb-aefe-de224608a259",
   "metadata": {},
   "source": [
    "Modèle A"
   ]
  },
  {
   "cell_type": "code",
   "execution_count": null,
   "id": "54bbdd95-13ec-46b1-ae96-a68ec38d5a56",
   "metadata": {
    "tags": []
   },
   "outputs": [],
   "source": [
    "hs.LM_test(pc_gdf, dep_var, independ_var_A, w = w_queen)\n",
    "print(hs.reg_spatial(pc_gdf, dep_var, independ_var_A, w_queen).summary)"
   ]
  },
  {
   "attachments": {},
   "cell_type": "markdown",
   "id": "f01d334f",
   "metadata": {},
   "source": [
    "# Clustering"
   ]
  },
  {
   "cell_type": "code",
   "execution_count": null,
   "id": "ba8a6a01",
   "metadata": {},
   "outputs": [],
   "source": [
    "bois = [\"CRS3035RES200mN2891600E3754800\",\"CRS3035RES200mN2891600E3754400\",\"CRS3035RES200mN2891800E3754000\",\"CRS3035RES200mN2892000E3753800\",\n",
    "        \"CRS3035RES200mN2891800E3753200\",\"CRS3035RES200mN2891400E3753200\",\"CRS3035RES200mN2891600E3752000\",\"CRS3035RES200mN2891400E3752400\",\n",
    "        \"CRS3035RES200mN2891200E3751800\",\"CRS3035RES200mN2891000E3752200\",\"CRS3035RES200mN2890600E3752000\",\"CRS3035RES200mN2890000E3751400\",\n",
    "        \"CRS3035RES200mN2890200E3752600\",\"CRS3035RES200mN2889400E3752600\",\"CRS3035RES200mN2890600E3753600\",\"CRS3035RES200mN2890000E3753200\",\n",
    "        \"CRS3035RES200mN2889800E3753600\",\"CRS3035RES200mN2890400E3754000\",\"CRS3035RES200mN2890200E3754000\",\"CRS3035RES200mN2893000E3764400\",\n",
    "        \"CRS3035RES200mN2887000E3754400\",\"CRS3035RES200mN2887000E3754600\",\"CRS3035RES200mN2887200E3754800\",\"CRS3035RES200mN2887400E3754800\",\n",
    "        \"CRS3035RES200mN2885600E3762800\",\"CRS3035RES200mN2885600E3764600\",\"CRS3035RES200mN2886200E3765200\",\"CRS3035RES200mN2886400E3765400\",\n",
    "        \"CRS3035RES200mN2885600E3765400\",\"CRS3035RES200mN2886000E3765800\",\"CRS3035RES200mN2886400E3766200\",\"CRS3035RES200mN2886600E3766400\",\n",
    "        \"CRS3035RES200mN2886400E3766800\",\"CRS3035RES200mN2886600E3766800\",\"CRS3035RES200mN2886600E3767000\",\"CRS3035RES200mN2886600E3767200\",\n",
    "        \"CRS3035RES200mN2886400E3767600\",\"CRS3035RES200mN2886400E3768000\",\"CRS3035RES200mN2886600E3768200\",\"CRS3035RES200mN2886000E3767000\",\n",
    "        \"CRS3035RES200mN2886000E3767600\",\"CRS3035RES200mN2885600E3768000\",\"CRS3035RES200mN2885000E3767000\",\"CRS3035RES200mN2885000E3767400\",\n",
    "        \"CRS3035RES200mN2885000E3768200\",\"CRS3035RES200mN2884600E3768200\",\"CRS3035RES200mN2884400E3768000\"]"
   ]
  },
  {
   "cell_type": "code",
   "execution_count": null,
   "id": "72308315",
   "metadata": {},
   "outputs": [],
   "source": [
    "clusterVar = [var+\"_access\" for var in interestVar]#+interestVar\n",
    "X = pc_gdf[clusterVar]\n",
    "X = X.drop(bois)\n",
    "pc_gdf_exclu_bois = pc_gdf.drop(bois)"
   ]
  },
  {
   "attachments": {},
   "cell_type": "markdown",
   "id": "97a60921",
   "metadata": {},
   "source": [
    "### KMeans\n",
    "MiniBatchKMeans works better because we don't have that many samples"
   ]
  },
  {
   "attachments": {},
   "cell_type": "markdown",
   "id": "0ba144a9",
   "metadata": {},
   "source": [
    "#### Choice of nb of clusters"
   ]
  },
  {
   "cell_type": "code",
   "execution_count": null,
   "id": "7e9df219",
   "metadata": {},
   "outputs": [],
   "source": [
    "from sklearn.cluster import KMeans, MiniBatchKMeans\n",
    "from sklearn.pipeline import Pipeline\n",
    "from sklearn.preprocessing import StandardScaler\n",
    "from yellowbrick.cluster import KElbowVisualizer\n",
    "\n",
    "mat = X.values\n",
    "\n",
    "pipe = Pipeline(steps=[('preprocessor', StandardScaler),\n",
    "                      ('clustering', MiniBatchKMeans)])\n",
    "scaler = pipe['preprocessor']()\n",
    "scaler.fit(X=mat)\n",
    "mat = scaler.transform(mat)\n",
    "\n",
    "km = pipe['clustering'](n_clusters = 4, random_state =1)"
   ]
  },
  {
   "cell_type": "code",
   "execution_count": null,
   "id": "513d0c30",
   "metadata": {},
   "outputs": [],
   "source": [
    "visualizer = KElbowVisualizer(km, k=(2,12))\n",
    "visualizer.fit(mat)\n",
    "visualizer.show()\n"
   ]
  },
  {
   "cell_type": "code",
   "execution_count": null,
   "id": "8e864e8d",
   "metadata": {},
   "outputs": [],
   "source": [
    "visualizer = KElbowVisualizer(km, k=(2,12), metric=\"silhouette\")\n",
    "visualizer.fit(mat)\n",
    "visualizer.show()"
   ]
  },
  {
   "cell_type": "code",
   "execution_count": null,
   "id": "1cdab60a",
   "metadata": {},
   "outputs": [],
   "source": [
    "visualizer = KElbowVisualizer(km, k=(2,12), metric=\"calinski_harabasz\")\n",
    "visualizer.fit(mat)\n",
    "visualizer.show()"
   ]
  },
  {
   "cell_type": "code",
   "execution_count": null,
   "id": "75aa04bf",
   "metadata": {},
   "outputs": [],
   "source": [
    "from yellowbrick.cluster import SilhouetteVisualizer, silhouette_visualizer\n",
    "# Instantiate the clustering model and visualizer\n",
    "km = pipe['clustering'](n_clusters = 5, random_state =1)\n",
    "silhouette_visualizer(km, mat, colors='yellowbrick')       # Finalize and render the figure"
   ]
  },
  {
   "cell_type": "code",
   "execution_count": null,
   "id": "15729349",
   "metadata": {},
   "outputs": [],
   "source": [
    "from sklearn.cluster import KMeans, MiniBatchKMeans\n",
    "from sklearn.pipeline import Pipeline\n",
    "from sklearn.preprocessing import StandardScaler\n",
    "\n",
    "mat = X.values\n",
    "\n",
    "pipe = Pipeline(steps=[('preprocessor', StandardScaler),\n",
    "                      ('clustering', MiniBatchKMeans)])\n",
    "scaler = pipe['preprocessor']()\n",
    "scaler.fit(X=mat)\n",
    "mat = scaler.transform(mat)\n",
    "nb_cluster = 5\n",
    "km = pipe['clustering'](n_clusters = nb_cluster, random_state =1)\n",
    "km.fit(mat)\n",
    "labels = km.labels_\n",
    "pc_gdf_exclu_bois[\"label\"] = labels"
   ]
  },
  {
   "cell_type": "code",
   "execution_count": null,
   "id": "48e2a192",
   "metadata": {},
   "outputs": [],
   "source": [
    "n_descante = 8\n",
    "from pysal.lib import weights\n",
    "\n",
    "from sklearn.pipeline import Pipeline\n",
    "from sklearn.preprocessing import StandardScaler\n",
    "from sklearn.cluster import AgglomerativeClustering, KMeans, MiniBatchKMeans\n",
    "w_queen = weights.contiguity.Queen.from_dataframe(pc_gdf_exclu_bois)\n",
    "\n",
    "import numpy as np\n",
    "import matplotlib as mpl\n",
    "reload(mpl)\n",
    "import matplotlib.pyplot as plt\n",
    "font = {'size'   : 33}\n",
    "\n",
    "mpl.rc('font', **font)\n",
    "mat = X.values\n",
    "\n",
    "pipe = Pipeline(steps=[('preprocessor', StandardScaler),\n",
    "                      ('clustering', MiniBatchKMeans)])\n",
    "\n",
    "scaler = pipe['preprocessor']()\n",
    "scaler.fit(X=mat)\n",
    "mat = scaler.transform(mat)\n",
    "\n",
    "fig,axs = plt.subplots(ncols = 2, nrows = n_descante//2, figsize=(30,40))\n",
    "\n",
    "for i in range(n_descante):\n",
    "    n_cluster = (i+1)*2\n",
    "    #clustering = pipe['clustering'](connectivity = w_queen.symmetrize().full()[0], compute_full_tree= True, distance_threshold=0, n_clusters=None)\n",
    "    clustering = pipe['clustering'](n_clusters = n_cluster\n",
    "    #        ,connectivity = w_queen.symmetrize().full()[0], #to use with aggloclustering\n",
    "    )\n",
    "    clustering.fit(mat)\n",
    "    pc_gdf_exclu_bois[\"label\"] = clustering.labels_\n",
    "    ax = axs[(i-(i%2))//2][i%2]\n",
    "    pc_gdf_exclu_bois.plot('label',ax=ax, cmap='tab10', categorical = True\n",
    "    , categories = range(n_cluster-1,-1,-1)\n",
    "    , alpha = 0.75\n",
    "    )\n",
    "    ax.set_title(f\"Number of clusters : {n_cluster}\")\n",
    "fig.tight_layout()\n",
    "plt.show()\n",
    "reload(mpl)"
   ]
  },
  {
   "attachments": {},
   "cell_type": "markdown",
   "id": "50d8177f",
   "metadata": {},
   "source": [
    "### Visualisation"
   ]
  },
  {
   "cell_type": "code",
   "execution_count": null,
   "id": "9dbc4631",
   "metadata": {},
   "outputs": [],
   "source": [
    "hs.folium_grid_cat_plot(pc_gdf_exclu_bois,'label',cmap=\"gist_rainbow\", discrete = False,op=0.01)"
   ]
  },
  {
   "attachments": {},
   "cell_type": "markdown",
   "id": "d3787016",
   "metadata": {},
   "source": [
    "### Analysis of the clusters"
   ]
  },
  {
   "attachments": {},
   "cell_type": "markdown",
   "id": "fb884497",
   "metadata": {},
   "source": [
    "#### Socio economic var"
   ]
  },
  {
   "cell_type": "code",
   "execution_count": null,
   "id": "930fe7cf",
   "metadata": {},
   "outputs": [],
   "source": [
    "pc_gdf_exclu_bois['Ind_mineur'] =100* (pc_gdf_exclu_bois['Ind_0_3']+pc_gdf_exclu_bois['Ind_4_5']+pc_gdf_exclu_bois['Ind_6_10']+pc_gdf_exclu_bois['Ind_11_17'])/pc_gdf_exclu_bois['Ind']\n",
    "pc_gdf_exclu_bois['Ind_jeune']= 100*pc_gdf_exclu_bois['Ind_18_24']/pc_gdf_exclu_bois['Ind']\n",
    "pc_gdf_exclu_bois['Ind_actif'] = 100*(pc_gdf_exclu_bois['Ind_25_39']+pc_gdf_exclu_bois['Ind_40_54']+pc_gdf_exclu_bois['Ind_55_64'])/pc_gdf_exclu_bois['Ind']\n",
    "pc_gdf_exclu_bois['Ind_old'] = 100*(pc_gdf_exclu_bois['Ind_65_79']+pc_gdf_exclu_bois['Ind_80p']+pc_gdf_exclu_bois['Ind_55_64'])/pc_gdf_exclu_bois['Ind']\n",
    "pc_gdf_exclu_bois['Men_pauv_rela'] =100* pc_gdf_exclu_bois['Men_pauv']/pc_gdf_exclu_bois['Men']\n",
    "pc_gdf_exclu_bois['Men_1ind_rela'] =100* pc_gdf_exclu_bois['Men_1ind']/pc_gdf_exclu_bois['Men']\n",
    "pc_gdf_exclu_bois['Men_5ind_rela'] = 100*pc_gdf_exclu_bois['Men_5ind']/pc_gdf_exclu_bois['Men']\n",
    "pc_gdf_exclu_bois['Men_prop_rela'] = 100*pc_gdf_exclu_bois['Men_prop']/pc_gdf_exclu_bois['Men']\n",
    "pc_gdf_exclu_bois['Men_fmp_rela'] = 100*pc_gdf_exclu_bois['Men_fmp']/pc_gdf_exclu_bois['Men']\n",
    "pc_gdf_exclu_bois['mean_Ind_snv'] = pc_gdf_exclu_bois['Ind_snv']/pc_gdf_exclu_bois['Ind'] \n"
   ]
  },
  {
   "cell_type": "code",
   "execution_count": null,
   "id": "1c02e137",
   "metadata": {},
   "outputs": [],
   "source": [
    "varSocioEco = ['Men_pauv_rela', 'Men_1ind_rela',\n",
    "       'Men_5ind_rela', 'Men_prop_rela', 'Men_fmp_rela','Ind', 'mean_Ind_snv','Ind_mineur', \n",
    "       'Ind_jeune', 'Ind_actif', 'Ind_old']"
   ]
  },
  {
   "attachments": {},
   "cell_type": "markdown",
   "id": "af4f10a5",
   "metadata": {},
   "source": [
    "#### dico var"
   ]
  },
  {
   "cell_type": "code",
   "execution_count": null,
   "id": "6eba761d",
   "metadata": {},
   "outputs": [],
   "source": [
    "dico_var = {'Ind' : \"Nombre d’individus\",\n",
    "'Men' : \"Nombre de ménages\",\n",
    "'Men_pauv' : \"Nombre de ménages pauvres\",\n",
    "'Men_1ind' : \"Nombre de ménages d’un seul individu\",\n",
    "'Men_5ind' : \"Nombre de ménages de 5 individus ou plus\",\n",
    "'Men_prop' : \"Nombre de ménages propriétaires\",\n",
    "'Men_fmp' : \"Nombre de ménages monoparentaux\",\n",
    "'Men_pauv_rela' : \"% de ménages pauvres\",\n",
    "'Men_1ind_rela' : \"% de ménages d’un seul individu\",\n",
    "'Men_5ind_rela' : \"% de ménages de 5 individus ou plus\",\n",
    "'Men_prop_rela' : \"% de ménages propriétaires\",\n",
    "'Men_fmp_rela' : \"% de ménages monoparentaux\",\n",
    "'Ind_snv' : \"Somme des niveaux de vie winsorisés des individus\",\n",
    "'mean_Ind_snv' : \"Moyenne des niveaux de vie winsorisés des individus\",\n",
    "'Ind_0_3' : \"Nombre d’individus de 0 à 3 ans\",\n",
    "'Ind_4_5' : \"Nombre d’individus de 4 à 5 ans\",\n",
    "'Ind_6_10' : \"Nombre d’individus de 6 à 10 ans\",\n",
    "'Ind_11_17' : \"Nombre d’individus de 11 à 17 ans\",\n",
    "'Ind_18_24' : \"Nombre d’individus de 18 à 24 ans\",\n",
    "'Ind_25_39' : \"Nombre d’individus de 25 à 39 ans\",\n",
    "'Ind_40_54' : \"Nombre d’individus de 40 à 54 ans\",\n",
    "'Ind_55_64' : \"Nombre d’individus de 55 à 64 ans\",\n",
    "'Ind_65_79' : \"Nombre d’individus de 65 à 79 ans\",\n",
    "'Ind_80p' : \"Nombre d’individus de 80 ans ou plus\", \n",
    "'Ind_mineur' : \"% d’individus de 0 à 17 ans\",\n",
    "'Ind_jeune': \"% d’individus de 18 à 24 ans\",\n",
    "'Ind_actif' : \"% d’individus de 25 à 64 ans\",\n",
    "'Ind_old' :\"% d’individus de 65 ans ou plus\",\n",
    "'Log_access': '2SFCA Logements',\n",
    "'Log_soc_access': '2SFCA Logements sociaux',\n",
    "'restaurant_access': '2SFCA restaurants',\n",
    "'culture and art_access': '2SFCA culture and art',\n",
    "'education_access': '2SFCA education',\n",
    "'food_shops_access': '2SFCA food shops',\n",
    "'fashion_beauty_access': '2SFCA fashion beauty',\n",
    "'supply_shops_access': '2SFCA supply shops'\n",
    "}"
   ]
  },
  {
   "attachments": {},
   "cell_type": "markdown",
   "id": "dbc6858c",
   "metadata": {},
   "source": [
    "#### Violin plots on accessibility scores"
   ]
  },
  {
   "cell_type": "code",
   "execution_count": null,
   "id": "63e30928",
   "metadata": {},
   "outputs": [],
   "source": [
    "base_bis = pc_gdf_exclu_bois[['label']+varSocioEco+clusterVar]\n",
    "hs.boxplots(base_bis,clusterVar,nb_cluster,dico_var=dico_var,ttest=False)"
   ]
  },
  {
   "attachments": {},
   "cell_type": "markdown",
   "id": "0d74bd99",
   "metadata": {},
   "source": [
    "#### Clusters data on the socio eco var.\n",
    "we can also do a box plot cf visualize.py"
   ]
  },
  {
   "cell_type": "code",
   "execution_count": null,
   "id": "cf2405b7",
   "metadata": {},
   "outputs": [],
   "source": [
    "varSocioEcoShort = ['Men_pauv_rela','mean_Ind_snv', 'Ind_mineur',\n",
    " 'Ind_jeune',\n",
    " 'Ind_actif',\n",
    " 'Ind_old']"
   ]
  },
  {
   "cell_type": "code",
   "execution_count": null,
   "id": "fa746abc",
   "metadata": {},
   "outputs": [],
   "source": [
    "hs.boxplots(base_bis,varSocioEcoShort,nb_cluster,dico_var=dico_var,ttest=False)"
   ]
  }
 ],
 "metadata": {
  "kernelspec": {
   "display_name": "Python 3 (ipykernel)",
   "language": "python",
   "name": "python3"
  },
  "language_info": {
   "codemirror_mode": {
    "name": "ipython",
    "version": 3
   },
   "file_extension": ".py",
   "mimetype": "text/x-python",
   "name": "python",
   "nbconvert_exporter": "python",
   "pygments_lexer": "ipython3",
   "version": "3.9.0"
  }
 },
 "nbformat": 4,
 "nbformat_minor": 5
}
